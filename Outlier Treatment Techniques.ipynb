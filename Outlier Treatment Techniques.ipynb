{
 "cells": [
  {
   "cell_type": "markdown",
   "id": "b75ffcba",
   "metadata": {},
   "source": [
    "## Using Standard deviation"
   ]
  },
  {
   "cell_type": "code",
   "execution_count": 23,
   "id": "c9290e66",
   "metadata": {},
   "outputs": [],
   "source": [
    "import numpy as np\n",
    "import pandas as pd\n",
    "import seaborn as sns\n",
    "from matplotlib import pyplot as plt"
   ]
  },
  {
   "cell_type": "markdown",
   "id": "15fdc08f",
   "metadata": {},
   "source": [
    "### Create scores that follows normal distribution"
   ]
  },
  {
   "cell_type": "code",
   "execution_count": 24,
   "id": "ec6b4673",
   "metadata": {},
   "outputs": [],
   "source": [
    "def generate_scores(mean=60,std_dev=12,num_samples=200):\n",
    "\tnp.random.seed(27)\n",
    "\tscores = np.random.normal(loc=mean,scale=std_dev,size=num_samples)\n",
    "\tscores = np.round(scores, decimals=0)\n",
    "\treturn scores\n",
    "scores_data = generate_scores()"
   ]
  },
  {
   "cell_type": "code",
   "execution_count": 25,
   "id": "a54d5a30",
   "metadata": {},
   "outputs": [
    {
     "data": {
      "text/plain": [
       "array([75., 56., 67., 65., 63., 59., 58., 63., 70., 75., 67., 65., 53.,\n",
       "       48., 75., 54., 57., 57., 57., 54., 53., 66., 62., 55., 65., 45.,\n",
       "       65., 29., 69., 49., 58., 81., 91., 58., 61., 65., 50., 78., 65.,\n",
       "       63., 72., 46., 73., 61., 60., 70., 42., 67., 82., 72., 74., 69.,\n",
       "       58., 64., 70., 65., 44., 90., 60., 58., 52., 52., 63., 59., 65.,\n",
       "       56., 44., 58., 58., 45., 61., 42., 51., 67., 61., 75., 72., 71.,\n",
       "       58., 67., 60., 69., 62., 64., 52., 58., 75., 35., 43., 63., 62.,\n",
       "       67., 72., 72., 58., 64., 64., 53., 47., 45., 45., 67., 73., 78.,\n",
       "       69., 66., 69., 59., 57., 63., 66., 34., 45., 63., 65., 61., 47.,\n",
       "       68., 53., 70., 73., 70., 38., 78., 62., 83., 60., 67., 61., 57.,\n",
       "       64., 63., 48., 61., 88., 84., 62., 67., 39., 56., 72., 66., 62.,\n",
       "       67., 77., 60., 46., 59., 65., 59., 54., 79., 38., 46., 50., 72.,\n",
       "       61., 47., 65., 29., 71., 59., 65., 46., 56., 67., 62., 64., 57.,\n",
       "       76., 64., 64., 73., 62., 61., 38., 20., 55., 63., 55., 39., 51.,\n",
       "       70., 58., 43., 54., 82., 65., 67., 50., 56., 54., 72., 54., 42.,\n",
       "       76., 67., 74., 98., 53.])"
      ]
     },
     "execution_count": 25,
     "metadata": {},
     "output_type": "execute_result"
    }
   ],
   "source": [
    "scores_data = generate_scores()\n",
    "scores_data"
   ]
  },
  {
   "cell_type": "markdown",
   "id": "e9861adc",
   "metadata": {},
   "source": [
    "### Creating dataframe"
   ]
  },
  {
   "cell_type": "code",
   "execution_count": 26,
   "id": "e1eb9eb8",
   "metadata": {},
   "outputs": [],
   "source": [
    "df = pd.DataFrame(scores_data, columns = ['scores'])"
   ]
  },
  {
   "cell_type": "markdown",
   "id": "ff6b4cd0",
   "metadata": {},
   "source": [
    "### Visualization"
   ]
  },
  {
   "cell_type": "code",
   "execution_count": 43,
   "id": "d64bd524",
   "metadata": {},
   "outputs": [
    {
     "data": {
      "image/png": "[encoded data removed]",
      "text/plain": [
       "<Figure size 500x500 with 1 Axes>"
      ]
     },
     "metadata": {},
     "output_type": "display_data"
    }
   ],
   "source": [
    "sns.displot(data=scores_data).set(title=\"Distribution of Scores\", xlabel=\"Scores\")\n",
    "plt.show()"
   ]
  },
  {
   "cell_type": "markdown",
   "id": "63c874a0",
   "metadata": {},
   "source": [
    "### Mean"
   ]
  },
  {
   "cell_type": "code",
   "execution_count": 47,
   "id": "0fe4ddfc",
   "metadata": {},
   "outputs": [
    {
     "data": {
      "text/plain": [
       "61.005"
      ]
     },
     "execution_count": 47,
     "metadata": {},
     "output_type": "execute_result"
    }
   ],
   "source": [
    "mean = df['scores'].mean()\n",
    "mean"
   ]
  },
  {
   "cell_type": "markdown",
   "id": "dd780694",
   "metadata": {},
   "source": [
    "### Standard deviation"
   ]
  },
  {
   "cell_type": "markdown",
   "id": "971f2847",
   "metadata": {},
   "source": [
    "### Standard Deviation Method\n",
    "If we know that the distribution of values in the sample is Gaussian or Gaussian-like, we can use the standard deviation of the sample as a cut-off for identifying outliers.\n",
    "\n",
    "The Gaussian distribution has the property that the standard deviation from the mean can be used to reliably summarize the percentage of values in the sample.\n",
    "\n",
    "For example, within one standard deviation of the mean will cover 68% of the data.\n",
    "\n",
    "So, if the mean is 50 and the standard deviation is 5, as in the test dataset above, then all data in the sample between 45 and 55 will account for about 68% of the data sample. We can cover more of the data sample if we expand the range as follows:\n",
    "\n",
    "1 Standard Deviation from the Mean: 68%\n",
    "2 Standard Deviations from the Mean: 95%\n",
    "3 Standard Deviations from the Mean: 99.7%\n",
    "A value that falls outside of 3 standard deviations is part of the distribution, but it is an unlikely or rare event at approximately 1 in 370 samples.\n",
    "\n",
    "Three standard deviations from the mean is a common cut-off in practice for identifying outliers in a Gaussian or Gaussian-like distribution. For smaller samples of data, perhaps a value of 2 standard deviations (95%) can be used, and for larger samples, perhaps a value of 4 standard deviations (99.9%) can be used."
   ]
  },
  {
   "cell_type": "code",
   "execution_count": 48,
   "id": "4e362e1d",
   "metadata": {},
   "outputs": [
    {
     "data": {
      "text/plain": [
       "11.85443432076481"
      ]
     },
     "execution_count": 48,
     "metadata": {},
     "output_type": "execute_result"
    }
   ],
   "source": [
    "std = df['scores'].std()\n",
    "std"
   ]
  },
  {
   "cell_type": "code",
   "execution_count": 49,
   "id": "53bdd000",
   "metadata": {},
   "outputs": [],
   "source": [
    "lower_limit = mean - 3 * std\n",
    "upper_limit = mean + 3 * std"
   ]
  },
  {
   "cell_type": "code",
   "execution_count": 50,
   "id": "2fb0b13c",
   "metadata": {},
   "outputs": [
    {
     "data": {
      "text/plain": [
       "25.441697037705573"
      ]
     },
     "execution_count": 50,
     "metadata": {},
     "output_type": "execute_result"
    }
   ],
   "source": [
    "lower_limit"
   ]
  },
  {
   "cell_type": "code",
   "execution_count": 51,
   "id": "bc785f44",
   "metadata": {},
   "outputs": [
    {
     "data": {
      "text/plain": [
       "96.56830296229444"
      ]
     },
     "execution_count": 51,
     "metadata": {},
     "output_type": "execute_result"
    }
   ],
   "source": [
    "upper_limit"
   ]
  },
  {
   "cell_type": "markdown",
   "id": "93fb7ca7",
   "metadata": {},
   "source": [
    "### values greater than upper limit"
   ]
  },
  {
   "cell_type": "code",
   "execution_count": 54,
   "id": "f4324a9c",
   "metadata": {},
   "outputs": [
    {
     "name": "stdout",
     "output_type": "stream",
     "text": [
      "[98.0]\n",
      "1\n"
     ]
    }
   ],
   "source": [
    "upper_outliers = []\n",
    "for i in df['scores']:\n",
    "    if i > upper_limit:\n",
    "        upper_outliers.append(i)\n",
    "print(upper_outliers)\n",
    "print(len(upper_outliers))"
   ]
  },
  {
   "cell_type": "markdown",
   "id": "d4d9453f",
   "metadata": {},
   "source": [
    "### values lower than upper limit"
   ]
  },
  {
   "cell_type": "code",
   "execution_count": 56,
   "id": "e2ad06d8",
   "metadata": {},
   "outputs": [
    {
     "name": "stdout",
     "output_type": "stream",
     "text": [
      "[20.0]\n",
      "1\n"
     ]
    }
   ],
   "source": [
    "lower_outliers = []\n",
    "for i in df['scores']:\n",
    "    if i < lower_limit:\n",
    "        lower_outliers.append(i)\n",
    "print(lower_outliers)\n",
    "print(len(lower_outliers))"
   ]
  },
  {
   "cell_type": "markdown",
   "id": "6c42050d",
   "metadata": {},
   "source": [
    "### filter the dataframe"
   ]
  },
  {
   "cell_type": "code",
   "execution_count": 59,
   "id": "486c7fd8",
   "metadata": {},
   "outputs": [],
   "source": [
    "df_filtered = df[(df['scores'] > upper_limit) | (df['scores'] < lower_limit)]"
   ]
  },
  {
   "cell_type": "code",
   "execution_count": 60,
   "id": "28301da0",
   "metadata": {},
   "outputs": [
    {
     "data": {
      "text/html": [
       "<div>\n",
       "<style scoped>\n",
       "    .dataframe tbody tr th:only-of-type {\n",
       "        vertical-align: middle;\n",
       "    }\n",
       "\n",
       "    .dataframe tbody tr th {\n",
       "        vertical-align: top;\n",
       "    }\n",
       "\n",
       "    .dataframe thead th {\n",
       "        text-align: right;\n",
       "    }\n",
       "</style>\n",
       "<table border=\"1\" class=\"dataframe\">\n",
       "  <thead>\n",
       "    <tr style=\"text-align: right;\">\n",
       "      <th></th>\n",
       "      <th>scores</th>\n",
       "    </tr>\n",
       "  </thead>\n",
       "  <tbody>\n",
       "    <tr>\n",
       "      <th>176</th>\n",
       "      <td>20.0</td>\n",
       "    </tr>\n",
       "    <tr>\n",
       "      <th>198</th>\n",
       "      <td>98.0</td>\n",
       "    </tr>\n",
       "  </tbody>\n",
       "</table>\n",
       "</div>"
      ],
      "text/plain": [
       "     scores\n",
       "176    20.0\n",
       "198    98.0"
      ]
     },
     "execution_count": 60,
     "metadata": {},
     "output_type": "execute_result"
    }
   ],
   "source": [
    "df_filtered"
   ]
  },
  {
   "cell_type": "markdown",
   "id": "b78d76b2",
   "metadata": {},
   "source": [
    "### Dropping these outliers"
   ]
  },
  {
   "cell_type": "code",
   "execution_count": 63,
   "id": "70b7126f",
   "metadata": {},
   "outputs": [],
   "source": [
    "df.drop(df_filtered.index, inplace = True)"
   ]
  },
  {
   "cell_type": "code",
   "execution_count": 64,
   "id": "ac3d051d",
   "metadata": {},
   "outputs": [
    {
     "data": {
      "text/plain": [
       "198"
      ]
     },
     "execution_count": 64,
     "metadata": {},
     "output_type": "execute_result"
    }
   ],
   "source": [
    "len(df) # earlier the length of dataframe was 200 but now after removing 2 outliers the length has become 198"
   ]
  },
  {
   "cell_type": "markdown",
   "id": "f57d3d96",
   "metadata": {},
   "source": [
    "## IQR Method"
   ]
  },
  {
   "cell_type": "markdown",
   "id": "44daba72",
   "metadata": {},
   "source": [
    "link 'https://machinelearningmastery.com/how-to-use-statistics-to-identify-outliers-in-data/'"
   ]
  },
  {
   "cell_type": "markdown",
   "id": "8bb04109",
   "metadata": {},
   "source": [
    "Not all data is normal or normal enough to treat it as being drawn from a Gaussian distribution.\n",
    "\n",
    "A good statistic for summarizing a non-Gaussian distribution sample of data is the Interquartile Range, or IQR for short.\n",
    "\n",
    "The IQR is calculated as the difference between the 75th and the 25th percentiles of the data and defines the box in a box and whisker plot.\n",
    "\n",
    "Remember that percentiles can be calculated by sorting the observations and selecting values at specific indices. The 50th percentile is the middle value, or the average of the two middle values for an even number of examples. If we had 10,000 samples, then the 50th percentile would be the average of the 5000th and 5001st values.\n",
    "\n",
    "We refer to the percentiles as quartiles (“quart” meaning 4) because the data is divided into four groups via the 25th, 50th and 75th values.\n",
    "\n",
    "The IQR defines the middle 50% of the data, or the body of the data."
   ]
  },
  {
   "cell_type": "code",
   "execution_count": null,
   "id": "419ef7c1",
   "metadata": {},
   "outputs": [],
   "source": [
    "## Outlier for prothrombin column\n",
    "q1 = df['Prothrombin'].quantile(0.25)\n",
    "q3 = df['Prothrombin'].quantile(0.75)\n",
    "iqr = q3-q1\n",
    "lower_bound = q1 - 1.5 * iqr\n",
    "upper_bound = q3 + 1.5 * iqr\n",
    "\n",
    "new_prothrombin = []\n",
    "for i in df['Prothrombin']:\n",
    "    if i > upper_bound:\n",
    "        new_prothrombin.append(upper_bound)\n",
    "    elif i < lower_bound:\n",
    "        new_prothrombin.append(lower_bound)\n",
    "    else:\n",
    "        new_prothrombin.append(i)\n",
    "\n",
    "df['Prothrombin'] = new_prothrombin\n",
    "sns.boxplot(data = df, x = df['Prothrombin'])"
   ]
  },
  {
   "cell_type": "markdown",
   "id": "f82e82e7",
   "metadata": {},
   "source": [
    "## Local outlier factor method"
   ]
  },
  {
   "cell_type": "markdown",
   "id": "dbb34d00",
   "metadata": {},
   "source": [
    "One-Class Classification, or OCC for short, involves fitting a model on the “normal” data and predicting whether new data is normal or an outlier/anomaly."
   ]
  },
  {
   "cell_type": "markdown",
   "id": "4ebffb4b",
   "metadata": {},
   "source": [
    "link 'https://machinelearningmastery.com/how-to-use-statistics-to-identify-outliers-in-data/'"
   ]
  },
  {
   "cell_type": "markdown",
   "id": "dfef4c56",
   "metadata": {},
   "source": [
    "The expectation is that the outliers are causing the linear regression model to learn a bias or skewed understanding of the problem, and that removing these outliers from the training set will allow a more effective model to be learned.\n",
    "\n",
    "We can achieve this by defining the LocalOutlierFactor model and using it to make a prediction on the training dataset, marking each row in the training dataset as normal (1) or an outlier (-1). We will use the default hyperparameters for the outlier detection model, although it is a good idea to tune the configuration to the specifics of your dataset."
   ]
  },
  {
   "cell_type": "code",
   "execution_count": null,
   "id": "a6cf8bbe",
   "metadata": {},
   "outputs": [],
   "source": [
    "# identify outliers in the training dataset\n",
    "lof = LocalOutlierFactor()\n",
    "yhat = lof.fit_predict(X_train)"
   ]
  },
  {
   "cell_type": "code",
   "execution_count": null,
   "id": "e9587ec8",
   "metadata": {},
   "outputs": [],
   "source": [
    "# select all rows that are not outliers\n",
    "mask = yhat != -1\n",
    "X_train, y_train = X_train[mask, :], y_train[mask]"
   ]
  },
  {
   "cell_type": "code",
   "execution_count": null,
   "id": "f0df9102",
   "metadata": {},
   "outputs": [],
   "source": [
    "# evaluate model on training dataset with outliers removed\n",
    "from pandas import read_csv\n",
    "from sklearn.model_selection import train_test_split\n",
    "from sklearn.linear_model import LinearRegression\n",
    "from sklearn.neighbors import LocalOutlierFactor\n",
    "from sklearn.metrics import mean_absolute_error\n",
    "# load the dataset\n",
    "url = 'https://raw.githubusercontent.com/jbrownlee/Datasets/master/housing.csv'\n",
    "df = read_csv(url, header=None)\n",
    "# retrieve the array\n",
    "data = df.values\n",
    "# split into inpiut and output elements\n",
    "X, y = data[:, :-1], data[:, -1]\n",
    "# split into train and test sets\n",
    "X_train, X_test, y_train, y_test = train_test_split(X, y, test_size=0.33, random_state=1)\n",
    "# summarize the shape of the training dataset\n",
    "print(X_train.shape, y_train.shape)\n",
    "# identify outliers in the training dataset\n",
    "lof = LocalOutlierFactor()\n",
    "yhat = lof.fit_predict(X_train)\n",
    "# select all rows that are not outliers\n",
    "mask = yhat != -1\n",
    "X_train, y_train = X_train[mask, :], y_train[mask]\n",
    "# summarize the shape of the updated training dataset\n",
    "print(X_train.shape, y_train.shape)\n",
    "# fit the model\n",
    "model = LinearRegression()\n",
    "model.fit(X_train, y_train)\n",
    "# evaluate the model\n",
    "yhat = model.predict(X_test)\n",
    "# evaluate predictions\n",
    "mae = mean_absolute_error(y_test, yhat)\n",
    "print('MAE: %.3f' % mae)"
   ]
  },
  {
   "cell_type": "code",
   "execution_count": null,
   "id": "c0ef1a03",
   "metadata": {},
   "outputs": [],
   "source": []
  },
  {
   "cell_type": "code",
   "execution_count": null,
   "id": "36d3bf39",
   "metadata": {},
   "outputs": [],
   "source": []
  },
  {
   "cell_type": "markdown",
   "id": "504ae04e",
   "metadata": {},
   "source": [
    "## Isolation Forest method of detecting Outlier"
   ]
  },
  {
   "cell_type": "code",
   "execution_count": null,
   "id": "b1f06ccc",
   "metadata": {},
   "outputs": [],
   "source": [
    "'https://machinelearningmastery.com/model-based-outlier-detection-and-removal-in-python/'"
   ]
  },
  {
   "cell_type": "markdown",
   "id": "c9b5ad10",
   "metadata": {},
   "source": [
    "Isolation Forest, or iForest for short, is a tree-based anomaly detection algorithm.\n",
    "\n",
    "It is based on modeling the normal data in such a way as to isolate anomalies that are both few in number and different in the feature space.\n",
    "\n",
    "The scikit-learn library provides an implementation of Isolation Forest in the IsolationForest class.\n",
    "\n",
    "Perhaps the most important hyperparameter in the model is the “contamination” argument, which is used to help estimate the number of outliers in the dataset. This is a value between 0.0 and 0.5 and by default is set to 0.1."
   ]
  },
  {
   "cell_type": "code",
   "execution_count": null,
   "id": "e22eac4e",
   "metadata": {},
   "outputs": [],
   "source": [
    "...\n",
    "# identify outliers in the training dataset\n",
    "iso = IsolationForest(contamination=0.1)\n",
    "yhat = iso.fit_predict(X_train)"
   ]
  },
  {
   "cell_type": "code",
   "execution_count": null,
   "id": "049c9db6",
   "metadata": {},
   "outputs": [],
   "source": [
    "...\n",
    "# select all rows that are not outliers\n",
    "mask = yhat != -1\n",
    "X_train, y_train = X_train[mask, :], y_train[mask]"
   ]
  },
  {
   "cell_type": "code",
   "execution_count": null,
   "id": "39fa68ca",
   "metadata": {},
   "outputs": [],
   "source": [
    "# evaluate model performance with outliers removed using isolation forest\n",
    "from pandas import read_csv\n",
    "from sklearn.model_selection import train_test_split\n",
    "from sklearn.linear_model import LinearRegression\n",
    "from sklearn.ensemble import IsolationForest\n",
    "from sklearn.metrics import mean_absolute_error\n",
    "# load the dataset\n",
    "url = 'https://raw.githubusercontent.com/jbrownlee/Datasets/master/housing.csv'\n",
    "df = read_csv(url, header=None)\n",
    "# retrieve the array\n",
    "data = df.values\n",
    "# split into input and output elements\n",
    "X, y = data[:, :-1], data[:, -1]\n",
    "# split into train and test sets\n",
    "X_train, X_test, y_train, y_test = train_test_split(X, y, test_size=0.33, random_state=1)\n",
    "# summarize the shape of the training dataset\n",
    "print(X_train.shape, y_train.shape)\n",
    "# identify outliers in the training dataset\n",
    "iso = IsolationForest(contamination=0.1)\n",
    "yhat = iso.fit_predict(X_train)\n",
    "# select all rows that are not outliers\n",
    "mask = yhat != -1\n",
    "X_train, y_train = X_train[mask, :], y_train[mask]\n",
    "# summarize the shape of the updated training dataset\n",
    "print(X_train.shape, y_train.shape)\n",
    "# fit the model\n",
    "model = LinearRegression()\n",
    "model.fit(X_train, y_train)\n",
    "# evaluate the model\n",
    "yhat = model.predict(X_test)\n",
    "# evaluate predictions\n",
    "mae = mean_absolute_error(y_test, yhat)\n",
    "print('MAE: %.3f' % mae)"
   ]
  },
  {
   "cell_type": "code",
   "execution_count": null,
   "id": "02c9c5c4",
   "metadata": {},
   "outputs": [],
   "source": []
  },
  {
   "cell_type": "markdown",
   "id": "60c23b54",
   "metadata": {},
   "source": [
    "## Minimum Covariance Determinant\n",
    "If the input variables have a Gaussian distribution, then simple statistical methods can be used to detect outliers.\n",
    "\n",
    "For example, if the dataset has two input variables and both are Gaussian, then the feature space forms a multi-dimensional Gaussian and knowledge of this distribution can be used to identify values far from the distribution.\n",
    "\n",
    "This approach can be generalized by defining a hypersphere (ellipsoid) that covers the normal data, and data that falls outside this shape is considered an outlier. An efficient implementation of this technique for multivariate data is known as the Minimum Covariance Determinant, or MCD for short.\n",
    "\n",
    "The Minimum Covariance Determinant (MCD) method is a highly robust estimator of multivariate location and scatter, for which a fast algorithm is available. […] It also serves as a convenient and efficient tool for outlier detection.\n",
    "\n",
    "— Minimum Covariance Determinant and Extensions, 2017.\n",
    "\n",
    "The scikit-learn library provides access to this method via the EllipticEnvelope class.\n",
    "\n",
    "It provides the “contamination” argument that defines the expected ratio of outliers to be observed in practice. In this case, we will set it to a value of 0.01, found with a little trial and error."
   ]
  },
  {
   "cell_type": "code",
   "execution_count": null,
   "id": "fe3f918a",
   "metadata": {},
   "outputs": [],
   "source": [
    "...\n",
    "# identify outliers in the training dataset\n",
    "ee = EllipticEnvelope(contamination=0.01)\n",
    "yhat = ee.fit_predict(X_train)"
   ]
  },
  {
   "cell_type": "code",
   "execution_count": null,
   "id": "14598c83",
   "metadata": {},
   "outputs": [],
   "source": [
    "# evaluate model performance with outliers removed using elliptical envelope\n",
    "from pandas import read_csv\n",
    "from sklearn.model_selection import train_test_split\n",
    "from sklearn.linear_model import LinearRegression\n",
    "from sklearn.covariance import EllipticEnvelope\n",
    "from sklearn.metrics import mean_absolute_error\n",
    "# load the dataset\n",
    "url = 'https://raw.githubusercontent.com/jbrownlee/Datasets/master/housing.csv'\n",
    "df = read_csv(url, header=None)\n",
    "# retrieve the array\n",
    "data = df.values\n",
    "# split into input and output elements\n",
    "X, y = data[:, :-1], data[:, -1]\n",
    "# split into train and test sets\n",
    "X_train, X_test, y_train, y_test = train_test_split(X, y, test_size=0.33, random_state=1)\n",
    "# summarize the shape of the training dataset\n",
    "print(X_train.shape, y_train.shape)\n",
    "# identify outliers in the training dataset\n",
    "ee = EllipticEnvelope(contamination=0.01)\n",
    "yhat = ee.fit_predict(X_train)\n",
    "# select all rows that are not outliers\n",
    "mask = yhat != -1\n",
    "X_train, y_train = X_train[mask, :], y_train[mask]\n",
    "# summarize the shape of the updated training dataset\n",
    "print(X_train.shape, y_train.shape)\n",
    "# fit the model\n",
    "model = LinearRegression()\n",
    "model.fit(X_train, y_train)\n",
    "# evaluate the model\n",
    "yhat = model.predict(X_test)\n",
    "# evaluate predictions\n",
    "mae = mean_absolute_error(y_test, yhat)\n",
    "print('MAE: %.3f' % mae)"
   ]
  },
  {
   "cell_type": "code",
   "execution_count": null,
   "id": "c1c185d7",
   "metadata": {},
   "outputs": [],
   "source": []
  },
  {
   "cell_type": "markdown",
   "id": "ae4efbad",
   "metadata": {},
   "source": [
    "## One-Class SVM\n",
    "The support vector machine, or SVM, algorithm developed initially for binary classification can be used for one-class classification.\n",
    "\n",
    "When modeling one class, the algorithm captures the density of the majority class and classifies examples on the extremes of the density function as outliers. This modification of SVM is referred to as One-Class SVM.\n",
    "\n",
    "… an algorithm that computes a binary function that is supposed to capture regions in input space where the probability density lives (its support), that is, a function such that most of the data will live in the region where the function is nonzero.\n",
    "\n",
    "— Estimating the Support of a High-Dimensional Distribution, 2001.\n",
    "\n",
    "Although SVM is a classification algorithm and One-Class SVM is also a classification algorithm, it can be used to discover outliers in input data for both regression and classification datasets.\n",
    "\n",
    "The scikit-learn library provides an implementation of one-class SVM in the OneClassSVM class.\n",
    "\n",
    "The class provides the “nu” argument that specifies the approximate ratio of outliers in the dataset, which defaults to 0.1. In this case, we will set it to 0.01, found with a little trial and error"
   ]
  },
  {
   "cell_type": "code",
   "execution_count": null,
   "id": "dbccbd4b",
   "metadata": {},
   "outputs": [],
   "source": [
    "...\n",
    "# identify outliers in the training dataset\n",
    "ee = OneClassSVM(nu=0.01)\n",
    "yhat = ee.fit_predict(X_train)"
   ]
  },
  {
   "cell_type": "code",
   "execution_count": null,
   "id": "df4c9d70",
   "metadata": {},
   "outputs": [],
   "source": [
    "# evaluate model performance with outliers removed using one class SVM\n",
    "from pandas import read_csv\n",
    "from sklearn.model_selection import train_test_split\n",
    "from sklearn.linear_model import LinearRegression\n",
    "from sklearn.svm import OneClassSVM\n",
    "from sklearn.metrics import mean_absolute_error\n",
    "# load the dataset\n",
    "url = 'https://raw.githubusercontent.com/jbrownlee/Datasets/master/housing.csv'\n",
    "df = read_csv(url, header=None)\n",
    "# retrieve the array\n",
    "data = df.values\n",
    "# split into input and output elements\n",
    "X, y = data[:, :-1], data[:, -1]\n",
    "# split into train and test sets\n",
    "X_train, X_test, y_train, y_test = train_test_split(X, y, test_size=0.33, random_state=1)\n",
    "# summarize the shape of the training dataset\n",
    "print(X_train.shape, y_train.shape)\n",
    "# identify outliers in the training dataset\n",
    "ee = OneClassSVM(nu=0.01)\n",
    "yhat = ee.fit_predict(X_train)\n",
    "# select all rows that are not outliers\n",
    "mask = yhat != -1\n",
    "X_train, y_train = X_train[mask, :], y_train[mask]\n",
    "# summarize the shape of the updated training dataset\n",
    "print(X_train.shape, y_train.shape)\n",
    "# fit the model\n",
    "model = LinearRegression()\n",
    "model.fit(X_train, y_train)\n",
    "# evaluate the model\n",
    "yhat = model.predict(X_test)\n",
    "# evaluate predictions\n",
    "mae = mean_absolute_error(y_test, yhat)\n",
    "print('MAE: %.3f' % mae)"
   ]
  },
  {
   "cell_type": "code",
   "execution_count": null,
   "id": "5cffcb76",
   "metadata": {},
   "outputs": [],
   "source": []
  },
  {
   "cell_type": "code",
   "execution_count": null,
   "id": "ada25ccf",
   "metadata": {},
   "outputs": [],
   "source": [
    "link = 'https://machinelearningmastery.com/one-class-classification-algorithms/'"
   ]
  }
 ],
 "metadata": {
  "kernelspec": {
   "display_name": "Python 3 (ipykernel)",
   "language": "python",
   "name": "python3"
  },
  "language_info": {
   "codemirror_mode": {
    "name": "ipython",
    "version": 3
   },
   "file_extension": ".py",
   "mimetype": "text/x-python",
   "name": "python",
   "nbconvert_exporter": "python",
   "pygments_lexer": "ipython3",
   "version": "3.9.13"
  }
 },
 "nbformat": 4,
 "nbformat_minor": 5
}
